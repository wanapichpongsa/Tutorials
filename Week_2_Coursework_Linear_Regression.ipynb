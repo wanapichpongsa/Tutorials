{
  "nbformat": 4,
  "nbformat_minor": 0,
  "metadata": {
    "colab": {
      "provenance": [],
      "include_colab_link": true
    },
    "kernelspec": {
      "name": "python3",
      "display_name": "Python 3"
    },
    "language_info": {
      "name": "python"
    }
  },
  "cells": [
    {
      "cell_type": "markdown",
      "metadata": {
        "id": "view-in-github",
        "colab_type": "text"
      },
      "source": [
        "<a href=\"https://colab.research.google.com/github/wanapichpongsa/Tutorials/blob/main/Week_2_Coursework_Linear_Regression.ipynb\" target=\"_parent\"><img src=\"https://colab.research.google.com/assets/colab-badge.svg\" alt=\"Open In Colab\"/></a>"
      ]
    },
    {
      "cell_type": "markdown",
      "source": [
        "# UCLAI: Linear Regression - Coursework"
      ],
      "metadata": {
        "id": "AIA3-TOtm42i"
      }
    },
    {
      "cell_type": "markdown",
      "source": [
        "## Part I: Numpy\n",
        "\n",
        "In order to implemement linear regression, we will have to use matrix multiplication, matrix inversion, and other linear algebra functions. Numpy is a great library for that, and it's also much faster than using Python's built-in `list`."
      ],
      "metadata": {
        "id": "9T-vYiDmm8Yl"
      }
    },
    {
      "cell_type": "code",
      "execution_count": null,
      "metadata": {
        "id": "u6iwnT4DmkVw"
      },
      "outputs": [],
      "source": [
        "import numpy as np\n",
        "import time\n",
        "\n",
        "# Let's first generate a big list from python, and one with numpy\n",
        "n = 1_000_000\n",
        "base_python_list = list(range(n))\n",
        "numpy_array = np.arange(n)\n",
        "\n",
        "# Let's create a function that computes the time it takes to run a function\n",
        "def get_runtime(func):\n",
        "  start_time = time.time()\n",
        "  func()\n",
        "  end_time = time.time()\n",
        "  return end_time - start_time"
      ]
    },
    {
      "cell_type": "markdown",
      "source": [
        "Create a function that adds two lists together. First call it to add two base python lists, then call it a second time to add two numpy_arrays."
      ],
      "metadata": {
        "id": "RjnmVBp-pdKd"
      }
    },
    {
      "cell_type": "code",
      "source": [
        "def add_numpy_lists(l1, l2):\n",
        "  # TODO: Add two numpy lists\n",
        "  pass\n",
        "\n",
        "def add_python_lists(l1, l2):\n",
        "  # TODO: Add two python lists\n",
        "  pass\n",
        "\n",
        "print(f\"Python runtime: {get_runtime(lambda: add_numpy_lists(base_python_list, base_python_list))}\")\n",
        "print(f\"Numpy runtime: {get_runtime(lambda: add_python_lists(numpy_array, numpy_array))}\")"
      ],
      "metadata": {
        "id": "NA-ShmR7pTaS"
      },
      "execution_count": null,
      "outputs": []
    },
    {
      "cell_type": "markdown",
      "source": [
        "## Part II: Linear Regression\n",
        "\n",
        "We will now use linear regression to fit some data. First, let's review the normal equations:\n",
        "\n",
        "\\begin{align*} \\mathbf{w} = (X^\\top X)^{-1} X^\\top \\mathbf{y} \\end{align*}\n",
        "\n",
        "Now how do we implement that in Numpy? You will need three functions:\n",
        "\n",
        "*   Matrix Transpose ($A^\\top$): `np.transpose(A)` or `A.T`\n",
        "*   Matrix Multiplication ($AB$ or $A \\mathbf{v}$): `numpy.dot(A, B)` or the `A @ B` operator\n",
        "*   Matrix Inverse $(A^{-1})$: `np.linalg.inv(A)`\n",
        "\n",
        "Now implement a function returning the best parameters for an L2-loss."
      ],
      "metadata": {
        "id": "IngG6eloruIR"
      }
    },
    {
      "cell_type": "code",
      "source": [
        "def get_ols_parameters(X, y):\n",
        "  # TODO: Compute (X^T X)^{-1} X^T y\n",
        "  return None"
      ],
      "metadata": {
        "id": "dzr_Qu6fu1oa"
      },
      "execution_count": null,
      "outputs": []
    },
    {
      "cell_type": "markdown",
      "source": [
        "Now, use that function to fit the data you've generated in the last coursework. Do you find that the parameters match the way you've generated the data? Why? Why not?\n",
        "\n",
        "If you haven't done last week's coursework, fit the following two datasets:"
      ],
      "metadata": {
        "id": "8I9BeLBqva70"
      }
    },
    {
      "cell_type": "code",
      "source": [
        "x1 = [ 2.61,  3.27, -6.51,  9.54,  7.38, -3.75,  1.64,  6.04, -4.9 ,\n",
        "  2.03,  1.51, -9.9 ,  4.91, -5.74,  3.62,  9.27, -8.44,  0.72,\n",
        "  -9.06,  5.82, -1.39,  4.45, -2.96,  3.21,  8.92, -9.14,  8.85,\n",
        "  -0.82, -5.53, -2.01,  5.89,  3.36,  9.18, -6.75,  1.67, -3.61,\n",
        "  -0.75, -4.59,  8.29, -7.5 , -3.39, -5.84,  8.73, -5.42,  2.83,\n",
        "  0.44,  0.94, -7.91, -5.49,  9.42]\n",
        "\n",
        "y1 = [  8.8 ,   6.33, -25.94,  46.26,  29.82, -13.74,   5.03,  14.33,\n",
        "  -15.18,  13.03,  16.73, -39.55,  18.98, -30.88,  18.87,  39.05,\n",
        "  -37.29,  -2.72, -35.99,  14.15,  -7.05,  18.98, -17.23,  10.9 ,\n",
        "  28.06, -47.84,  36.73,  -1.83, -10.85, -14.34,  24.94,  12.75,\n",
        "  36.18, -23.35,   2.14, -20.84,  -8.26, -19.21,  18.45, -35.26,\n",
        "  -4.88, -20.01,  26.68, -26.84,   6.8 ,   4.81,  -9.28, -26.33,\n",
        "  -28.47,  39.8 ]\n",
        "\n",
        "x2 = [-3.22, -1.52,  3.31, -6.96,  2.17, -2.45,  7.66, -8.48,  6.6 ,\n",
        "  -2.46, -7.67,  5.89,  9.35, -1.23,  8.21, -1.4 ,  6.22,  2.77,\n",
        "  6.02, -7.13, -5.21,  0.46,  1.88,  2.32, -1.46, -5.25,  3.54,\n",
        "  -3.29,  5.01,  5.42,  2.35,  2.42,  1.84, -4.99,  5.06, -4.76,\n",
        "  -2.6 ,  9.41,  6.64, -2.94,  1.01, -6.07, -4.74,  2.08, -9.16,\n",
        "  7.46,  3.59, -4.55, -5.18, -0.13]\n",
        "\n",
        "y2 = [ 24.4 ,   5.56,  52.72, 209.5 ,  -6.56,  35.72, 240.11, 275.56,\n",
        "  187.12,  24.06, 240.35, 118.46, 350.84,  21.16, 284.55, -11.88,\n",
        "  141.  ,  51.9 , 154.7 , 194.19, 112.11,  13.21,   8.96,  26.68,\n",
        "  12.26, 115.37,  43.79,  40.08, 121.48, 109.67, -11.35,  36.7 ,\n",
        "  1.87,  95.97, 108.23,  71.06,  37.34, 358.34, 161.07,  38.56,\n",
        "  -3.92, 146.1 , 113.53,  22.  , 324.83, 228.21,  55.1 ,  87.48,\n",
        "  98.51,  -9.41]"
      ],
      "metadata": {
        "id": "J7LV8PFQyd5a"
      },
      "execution_count": null,
      "outputs": []
    },
    {
      "cell_type": "markdown",
      "source": [
        "Hint: It might help plotting the datasets before starting!"
      ],
      "metadata": {
        "id": "6meGlkKT0QLW"
      }
    },
    {
      "cell_type": "markdown",
      "metadata": {
        "id": "4117987e"
      },
      "source": [
        "## Part III: Californian Homes\n",
        "\n",
        "Now let's go in higher dimension! Here's some code to load the California Housing dataset and prepare it for linear regression. By loading the dataset, we can print its shape and see that we have 20,640 data points and 8 features."
      ]
    },
    {
      "cell_type": "code",
      "metadata": {
        "colab": {
          "base_uri": "https://localhost:8080/"
        },
        "id": "3e92b0c3",
        "outputId": "e4b16b2d-4253-421e-e161-6bd53b4bd994"
      },
      "source": [
        "from sklearn.datasets import fetch_california_housing\n",
        "\n",
        "# Load the dataset\n",
        "housing = fetch_california_housing()\n",
        "\n",
        "# Extract features (X) and target (y)\n",
        "X = housing.data\n",
        "y = housing.target\n",
        "\n",
        "print(\"Shape of features (X):\", X.shape)\n",
        "print(\"Shape of target (y):\", y.shape)"
      ],
      "execution_count": null,
      "outputs": [
        {
          "output_type": "stream",
          "name": "stdout",
          "text": [
            "Shape of features (X): (20640, 8)\n",
            "Shape of target (y): (20640,)\n"
          ]
        }
      ]
    },
    {
      "cell_type": "markdown",
      "source": [
        "The California Housing dataset contains information about housing prices in various districts of California. Each row in `X` represents a district, and the columns represent the 8 features:\n",
        "\n",
        "*   **MedInc**: Median income in the district\n",
        "*   **HouseAge**: Median house age in the district\n",
        "*   **AveRooms**: Average number of rooms per household\n",
        "*   **AveBedrms**: Average number of bedrooms per household\n",
        "*   **Population**: District population\n",
        "*   **AveOccup**: Average house occupancy\n",
        "*   **Latitude**: House block latitude\n",
        "*   **Longitude**: House block longitude\n",
        "\n",
        "The target variable `y` here is **MedHouseVal**, the median house value for California districts, expressed in hundreds of thousands of dollars.\n",
        "\n",
        "Using the features provided, your goal is to predict the median house value for a given district.\n",
        "\n",
        "1. Split your data `X` and `y` to obtain a training and testing dataset.\n",
        "2. Use the `get_ols_parameters` function to fit the training dataset.\n",
        "3. Compute the training and testing mean squared error (MSE).\n",
        "4. Reflect on the model. Is it a good one? How could you improve it?\n",
        "\n",
        "Remember that the **mean squared error** is the mean of residuals:\n",
        "\\begin{align*}\n",
        "  \\text{MSE} = \\frac{1}{n} \\sum^n_{i=1} (\\mathbf{y}_i - \\mathbf{x}_i^\\top w)^2\n",
        "\\end{align*}"
      ],
      "metadata": {
        "id": "kSLcyCrZHIfb"
      }
    },
    {
      "cell_type": "code",
      "source": [
        "# TODO: Fit Californian Houses"
      ],
      "metadata": {
        "id": "QVGkSifxJMwk"
      },
      "execution_count": null,
      "outputs": []
    },
    {
      "cell_type": "markdown",
      "metadata": {
        "id": "5bb89886"
      },
      "source": [
        "Instead of implementing the OLS formula manually, you can also use the `LinearRegression` class from scikit-learn, which provides a straightforward way to perform linear regression.\n",
        "\n",
        "Here's how you can use scikit-learn for linear regression on the California Housing dataset:"
      ]
    },
    {
      "cell_type": "code",
      "source": [
        "from sklearn.model_selection import train_test_split\n",
        "from sklearn.linear_model import LinearRegression\n",
        "from sklearn.metrics import mean_squared_error, r2_score\n",
        "\n",
        "# Split the data into training and testing sets\n",
        "X_train, X_test, y_train, y_test = train_test_split(X, y, test_size=0.2, random_state=42)\n",
        "\n",
        "# Initialize the Linear Regression model\n",
        "model = LinearRegression()\n",
        "\n",
        "# Fit the model to the training data\n",
        "model.fit(X_train, y_train)\n",
        "\n",
        "# Make predictions on the test data\n",
        "y_pred = model.predict(X_test)\n",
        "\n",
        "# Evaluate the model\n",
        "mse = mean_squared_error(y_test, y_pred)\n",
        "r2 = r2_score(y_test, y_pred)\n",
        "\n",
        "print(f\"Mean Squared Error (MSE): {mse}\")\n",
        "print(f\"R-squared (R2): {r2}\")\n",
        "\n",
        "# You can also access the coefficients and intercept of the fitted model\n",
        "print(f\"Coefficients: {model.coef_}\")\n",
        "print(f\"Intercept: {model.intercept_}\")"
      ],
      "metadata": {
        "id": "eRrjkOYKKYF6"
      },
      "execution_count": null,
      "outputs": []
    },
    {
      "cell_type": "markdown",
      "source": [
        "Do you obtain the same results as with your own function?\n",
        "\n",
        "Optional:\n",
        "\n",
        "1. Add a ridge regularizer to the `get_ols_parameters` function. Fit your model a few times with different values of lambda. What do you notice?\n",
        "\n",
        "2. This dataset is quite famous online. Do some research, what do you think the best feature map would be for the dataset?"
      ],
      "metadata": {
        "id": "stGz-f4pKpHn"
      }
    },
    {
      "cell_type": "markdown",
      "metadata": {
        "id": "f8bcbb98"
      },
      "source": [
        "## Part IV: Intro to clustering\n",
        "\n",
        "So far, we've focused on supervised learning, where we have labeled data (input features $\\mathbf{x}$ and corresponding target values $\\mathbf{y}$) and our goal is to learn a mapping from $\\mathbf{x}$ to $\\mathbf{y}$.\n",
        "\n",
        "Now, we'll shift gears to **unsupervised learning**. In unsupervised learning, we only have input data $\\mathbf{x}$, and our goal is to find patterns, structures, or relationships within the data. This often involves modeling the probability distribution of the data itself, $p(\\mathbf{x})$. Clustering is a common unsupervised learning task where we aim to group data points into clusters such that points within the same cluster are more similar to each other than to points in other clusters.\n",
        "\n",
        "Today, for this coursework, we will generate the data that we will use for clustering next week. We will generate points $\\mathbf{x}$ in 2D (with components $x_1$ and $x_2$) such that the probability distribution $p(\\mathbf{x})$ is a **mixture of two normal distributions**. This means our data will naturally form two clusters, with each cluster following a Gaussian (Normal) distribution.\n",
        "\n",
        "![Untitled.png](data:image/png;base64,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)\n",
        "\n",
        "Recall that a **univariate normal distribution** for a single variable $x$ is defined by its mean $\\mu$ and variance $\\sigma^2$, and its probability density function is given by:\n",
        "$$f(x | \\mu, \\sigma^2) = \\frac{1}{\\sqrt{2\\pi\\sigma^2}} e^{-\\frac{(x-\\mu)^2}{2\\sigma^2}}$$\n",
        "In two dimensions, a **multivariate normal distribution** for a vector $\\mathbf{x} = [x_1, x_2]^\\top$ is defined by a mean vector $\\boldsymbol{\\mu} = [\\mu_1, \\mu_2]^\\top$ and a $2 \\times 2$ covariance matrix $\\boldsymbol{\\Sigma}$. The probability density function is:\n",
        "$$f(\\mathbf{x} | \\boldsymbol{\\mu}, \\boldsymbol{\\Sigma}) = \\frac{1}{\\sqrt{(2\\pi)^2 |\\boldsymbol{\\Sigma}|}} e^{-\\frac{1}{2}(\\mathbf{x}-\\boldsymbol{\\mu})^\\top \\boldsymbol{\\Sigma}^{-1}(\\mathbf{x}-\\boldsymbol{\\mu})}$$\n",
        "where $|\\boldsymbol{\\Sigma}|$ is the determinant of the covariance matrix. The covariance matrix describes the variance of each component and the covariance between them.\n",
        "\n",
        "A **mixture of normal distributions** is a probabilistic model that assumes the data is generated from a combination of several normal distributions. In our case, with two clusters, the probability distribution of a data point $\\mathbf{x}$ is a weighted sum of the probability densities of two normal distributions:\n",
        "$$p(\\mathbf{x}) = \\pi_1 \\mathcal{N}(\\mathbf{x} | \\boldsymbol{\\mu}_1, \\boldsymbol{\\Sigma}_1) + \\pi_2 \\mathcal{N}(\\mathbf{x} | \\boldsymbol{\\mu}_2, \\boldsymbol{\\Sigma}_2)$$\n",
        "where $\\pi_1$ and $\\pi_2$ are the mixing coefficients (prior probabilities of a data point belonging to each cluster, with $\\pi_1 + \\pi_2 = 1$), and $\\mathcal{N}(\\mathbf{x} | \\boldsymbol{\\mu}_k, \\boldsymbol{\\Sigma}_k)$ is the probability density function of the $k$-th normal distribution with mean $\\boldsymbol{\\mu}_k$ and covariance matrix $\\boldsymbol{\\Sigma}_k$.\n",
        "\n",
        "Now, let's generate some data points that follow this kind of distribution. We will define the means and covariance matrices for our two clusters and then sample points from each distribution."
      ]
    },
    {
      "cell_type": "code",
      "metadata": {
        "id": "093bf885"
      },
      "source": [
        "# Solution code for generating and plotting data\n",
        "import numpy\n",
        "import matplotlib.pyplot as plt\n",
        "\n",
        "# Define the parameters for the two normal distributions\n",
        "mean1 = [0, 0]\n",
        "cov1 = [[1, 0.5], [0.5, 1]]  # Covariance matrix for cluster 1\n",
        "\n",
        "mean2 = [5, 5]\n",
        "cov2 = [[1, -0.5], [-0.5, 1]] # Covariance matrix for cluster 2\n",
        "\n",
        "# Number of data points for each cluster\n",
        "n_samples = 200\n",
        "\n",
        "def generate_data():\n",
        "  # TODO\n",
        "  return []\n",
        "\n",
        "def plot_data(x):\n",
        "  # TODO\n",
        "  pass"
      ],
      "execution_count": null,
      "outputs": []
    },
    {
      "cell_type": "markdown",
      "source": [
        "## [Optional] Part V: L1-Loss\n",
        "\n",
        "Derive the normal equations for a L1-loss\n",
        "\\begin{align*}\n",
        "  \\mathcal{L}(\\mathbf{w}) = \\sum^n_{i=1} |y_i - \\mathbf{x}_i^\\top \\mathbf{w} |\n",
        "\\end{align*}\n",
        "\n",
        "This is challenging! Read some resources, or ask for help if you're stuck!"
      ],
      "metadata": {
        "id": "A_VzHnmTOMRU"
      }
    }
  ]
}